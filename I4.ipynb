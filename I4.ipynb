{
  "nbformat": 4,
  "nbformat_minor": 0,
  "metadata": {
    "colab": {
      "provenance": [],
      "authorship_tag": "ABX9TyOW50v//hq4rOgDJwEK0+sQ",
      "include_colab_link": true
    },
    "kernelspec": {
      "name": "python3",
      "display_name": "Python 3"
    },
    "language_info": {
      "name": "python"
    }
  },
  "cells": [
    {
      "cell_type": "markdown",
      "metadata": {
        "id": "view-in-github",
        "colab_type": "text"
      },
      "source": [
        "<a href=\"https://colab.research.google.com/github/daisywen99/I4-Easy-to-Access/blob/main/I4.ipynb\" target=\"_parent\"><img src=\"https://colab.research.google.com/assets/colab-badge.svg\" alt=\"Open In Colab\"/></a>"
      ]
    },
    {
      "cell_type": "code",
      "execution_count": 1,
      "metadata": {
        "colab": {
          "base_uri": "https://localhost:8080/"
        },
        "id": "la6XutTE5Nws",
        "outputId": "3eb56bd8-9ec9-4540-d05a-fb6b14b75f15"
      },
      "outputs": [
        {
          "output_type": "stream",
          "name": "stdout",
          "text": [
            "Sample JSON API Data (Current Weather in Seattle):\n",
            "{'time': '2025-04-29T04:45', 'interval': 900, 'temperature': 9.6, 'windspeed': 8.7, 'winddirection': 197, 'is_day': 0, 'weathercode': 3}\n",
            "\n",
            "Sample CSV Downloaded from HTTP:\n",
            "   Index   Height(Inches)\"   \"Weight(Pounds)\"\n",
            "0      1             65.78             112.99\n",
            "1      2             71.52             136.49\n",
            "2      3             69.40             153.03\n",
            "3      4             68.22             142.34\n",
            "4      5             67.79             144.30\n",
            "\n",
            "Sample SQL Database Data:\n",
            "   id   name  age\n",
            "0   1  Alice   24\n",
            "1   2    Bob   30\n"
          ]
        }
      ],
      "source": [
        "# --- Import libraries ---\n",
        "import requests\n",
        "import pandas as pd\n",
        "import sqlite3\n",
        "\n",
        "# --- Function 1: Access JSON via HTTP API (Open-Meteo Weather) ---\n",
        "def access_json_api():\n",
        "    \"\"\"\n",
        "    Access Technology: API over HTTP (real-time API call).\n",
        "    Information Structure: JSON.\n",
        "\n",
        "    Pros:\n",
        "    - Real-time, always up-to-date information.\n",
        "    - Lightweight data format, easy to parse.\n",
        "\n",
        "    Cons:\n",
        "    - Requires an internet connection.\n",
        "    - If API structure changes, code may break.\n",
        "\n",
        "    Example Used:\n",
        "    Open-Meteo weather API, no API key required.\n",
        "    \"\"\"\n",
        "    url = \"https://api.open-meteo.com/v1/forecast?latitude=47.6062&longitude=-122.3321&current_weather=true\"\n",
        "    response = requests.get(url)\n",
        "    data = response.json()\n",
        "    print(\"Sample JSON API Data (Current Weather in Seattle):\")\n",
        "    print(data[\"current_weather\"])  # Print only current weather part\n",
        "\n",
        "# --- Function 2: Access CSV file via HTTP download (FSU CSV) ---\n",
        "def access_csv_http():\n",
        "    \"\"\"\n",
        "    Access Technology: File download over HTTP (public file).\n",
        "    Information Structure: CSV.\n",
        "\n",
        "    Pros:\n",
        "    - Easy to access and load into Python.\n",
        "    - Public datasets are often well-structured.\n",
        "\n",
        "    Cons:\n",
        "    - File may be removed or moved by host.\n",
        "    - Internet required to download each time.\n",
        "\n",
        "    Example Used:\n",
        "    Heights/weights dataset from FSU's public server.\n",
        "    \"\"\"\n",
        "    url = \"https://people.sc.fsu.edu/~jburkardt/data/csv/hw_200.csv\"\n",
        "    df = pd.read_csv(url)\n",
        "    print(\"\\nSample CSV Downloaded from HTTP:\")\n",
        "    print(df.head())\n",
        "\n",
        "# --- Function 3: Access data via SQLite local database ---\n",
        "def access_sqlite_db():\n",
        "    \"\"\"\n",
        "    Access Technology: Local database (SQLite3).\n",
        "    Information Structure: Structured Table (SQL).\n",
        "\n",
        "    Pros:\n",
        "    - Good for relational data and complex queries.\n",
        "    - No internet required after setup.\n",
        "\n",
        "    Cons:\n",
        "    - Setup needed (creating DB and tables).\n",
        "    - Not ideal for massive, high-concurrency use.\n",
        "\n",
        "    Example Used:\n",
        "    Create and query a small local 'people' table.\n",
        "    \"\"\"\n",
        "    conn = sqlite3.connect('sample.db')\n",
        "    cursor = conn.cursor()\n",
        "    cursor.execute('CREATE TABLE IF NOT EXISTS people (id INTEGER PRIMARY KEY, name TEXT, age INTEGER)')\n",
        "    cursor.execute('DELETE FROM people')  # Clear existing rows for fresh start\n",
        "    cursor.execute('INSERT INTO people (name, age) VALUES (?, ?)', ('Alice', 24))\n",
        "    cursor.execute('INSERT INTO people (name, age) VALUES (?, ?)', ('Bob', 30))\n",
        "    conn.commit()\n",
        "\n",
        "    df_sql = pd.read_sql_query(\"SELECT * FROM people\", conn)\n",
        "    print(\"\\nSample SQL Database Data:\")\n",
        "    print(df_sql)\n",
        "\n",
        "    conn.close()\n",
        "\n",
        "# --- Main Execution ---\n",
        "if __name__ == \"__main__\":\n",
        "    access_json_api()\n",
        "    access_csv_http()\n",
        "    access_sqlite_db()\n"
      ]
    }
  ]
}